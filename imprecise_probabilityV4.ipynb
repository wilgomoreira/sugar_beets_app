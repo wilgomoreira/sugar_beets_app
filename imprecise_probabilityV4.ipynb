{
 "cells": [
  {
   "cell_type": "markdown",
   "id": "0fd9b8bc",
   "metadata": {},
   "source": [
    "### Read the train and test logits/likelyhoods"
   ]
  },
  {
   "cell_type": "code",
   "execution_count": 1,
   "id": "b66603ec",
   "metadata": {},
   "outputs": [
    {
     "name": "stdout",
     "output_type": "stream",
     "text": [
      "Validation logits shape: torch.Size([21, 4, 966, 1296])\n",
      "Validation images shape: torch.Size([21, 3, 966, 1296])\n",
      "Validation labels shape: torch.Size([21, 966, 1296])\n",
      "Validation probabilities shape: torch.Size([21, 4, 966, 1296])\n"
     ]
    }
   ],
   "source": [
    "import torch\n",
    "import numpy as np\n",
    "import matplotlib.pyplot as plt\n",
    "import torch.nn.functional as F\n",
    "import seaborn as sns\n",
    "from sklearn.metrics import f1_score\n",
    "from netcal.metrics import ECE\n",
    "from skopt import gp_minimize\n",
    "from skopt.space import Real\n",
    "from skopt.utils import use_named_args\n",
    "from tqdm import tqdm\n",
    "import pydensecrf.densecrf as dcrf\n",
    "import optuna\n",
    "\n",
    "PENALTY_FACTOR = 0.1   # higher penalty factor for CRF\n",
    "ALPHA_FACTOR = 0.1   # penalty factor for lower bound\n",
    "\n",
    "val_path = 'calibration_logits.pth'\n",
    "test_path = 'test_logits.pth'\n",
    "\n",
    "val_data = torch.load(val_path, weights_only=False)\n",
    "test_data = torch.load(test_path, weights_only=False)\n",
    "\n",
    "val_logits = val_data[\"logits\"] \n",
    "val_images = val_data[\"images\"]  \n",
    "val_labels = val_data[\"masks\"]    \n",
    "val_probs = F.softmax(val_logits, dim=1)\n",
    "\n",
    "test_logits = test_data[\"logits\"] \n",
    "test_images = test_data[\"images\"]  \n",
    "test_labels = test_data[\"masks\"]    \n",
    "test_probs = F.softmax(test_logits, dim=1)\n",
    "\n",
    "print(\"Validation logits shape:\", val_logits.shape)\n",
    "print(\"Validation images shape:\", val_images.shape)\n",
    "print(\"Validation labels shape:\", val_labels.shape)\n",
    "print(\"Validation probabilities shape:\", val_probs.shape)       "
   ]
  },
  {
   "cell_type": "markdown",
   "id": "2aba910f",
   "metadata": {},
   "source": [
    "### Frameworks"
   ]
  },
  {
   "cell_type": "markdown",
   "id": "d7a6b6fa",
   "metadata": {},
   "source": [
    "#### FrameMetrics"
   ]
  },
  {
   "cell_type": "code",
   "execution_count": 2,
   "id": "30055be2",
   "metadata": {},
   "outputs": [],
   "source": [
    "class FrameMetrics:\n",
    "\n",
    "    def compute_ece(probs, labels, n_bins=10):\n",
    "        N, C, H, W = probs.shape\n",
    "        probs_flat = probs.permute(0, 2, 3, 1).reshape(-1, C) \n",
    "        labels_flat = labels.view(-1)  # (N*H*W,)\n",
    "        probs_np  = probs_flat.detach().cpu().numpy()  \n",
    "        labels_np = labels_flat.detach().cpu().numpy() \n",
    "        \n",
    "        ece = ECE(bins=n_bins)\n",
    "        ece_score = ece.measure(probs_np, labels_np)\n",
    "        return ece_score\n",
    "    \n",
    "    def compute_inbalance(labels):\n",
    "        labels_flat = labels.view(-1)               \n",
    "        labels_np   = labels_flat.detach().cpu().numpy()\n",
    "\n",
    "        classes, counts = np.unique(labels_np, return_counts=True)\n",
    "        total           = labels_np.shape[0]\n",
    "        percentages     = counts / total * 100\n",
    "\n",
    "        for cls, cnt, pct in zip(classes, counts, percentages):\n",
    "            print(f\"Classe {cls}: {cnt} samples — {pct:.2f}% of total\")\n",
    "\n",
    "        fig, ax = plt.subplots()\n",
    "        bars = ax.bar(classes, counts)\n",
    "\n",
    "        for bar, pct in zip(bars, percentages):\n",
    "            ax.text(\n",
    "                bar.get_x() + bar.get_width() / 2,  \n",
    "                bar.get_height(),                   \n",
    "                f'{pct:.2f}%',                      \n",
    "                ha='center',                        \n",
    "                va='bottom'                         \n",
    "            )\n",
    "\n",
    "        ax.set_xlabel('Index of class')\n",
    "        ax.set_ylabel('Number of samples')\n",
    "        ax.set_title('Class Distribution')\n",
    "        ax.set_xticks(classes)\n",
    "        plt.show()\n",
    "\n",
    "    def compute_f1_score(probs, labels, num_classes): \n",
    "        N, C, H, W = probs.shape\n",
    "        probs_flat = probs.permute(0, 2, 3, 1).reshape(-1, C)  \n",
    "        labels_flat = labels.view(-1)  \n",
    "\n",
    "        preds_flat = torch.argmax(probs_flat, dim=1)\n",
    "        labels_np = labels_flat.cpu().numpy()\n",
    "        preds_np = preds_flat.cpu().numpy()\n",
    "\n",
    "        f1_per_class = f1_score(labels_np, preds_np, average=None,\n",
    "                                labels=range(num_classes), zero_division=0)\n",
    "\n",
    "        macro_f1 = f1_score(labels_np, preds_np, average='macro',\n",
    "                               labels=range(num_classes), zero_division=0)\n",
    "\n",
    "        return f1_per_class, macro_f1"
   ]
  },
  {
   "cell_type": "markdown",
   "id": "5a77b694",
   "metadata": {},
   "source": [
    "#### Frame Imprecise Probability"
   ]
  },
  {
   "cell_type": "code",
   "execution_count": 3,
   "id": "dcdff40b",
   "metadata": {},
   "outputs": [],
   "source": [
    "class FrameImpreciseProbsframe:\n",
    "    def obtain_lower_bound(probs, alpha=0.1, eps=1e-6):\n",
    "        entropy = -torch.sum(probs * torch.log(probs + eps), dim=1) \n",
    "        lower_bound = (probs - alpha * entropy.unsqueeze(1)).clamp(0, 1)       \n",
    "        return lower_bound\n",
    "    \n",
    "    def plot_lower_bound_distribution(lower_bound, labels, sample_size=10000):\n",
    "        N, C, H, W = lower_bound.shape\n",
    "        plt.figure(figsize=(8, 4))\n",
    "\n",
    "        for c in range(C):\n",
    "            mask = (labels == c).unsqueeze(1) \n",
    "            lower_c = lower_bound[:, c, :, :][mask.squeeze(1)]\n",
    "\n",
    "            if lower_c.numel() > sample_size:\n",
    "                indices = torch.randperm(lower_c.numel())[:sample_size]\n",
    "                lower_c = lower_c[indices]\n",
    "\n",
    "            sns.kdeplot(lower_c.cpu().numpy(), label=f'Class {c}', linewidth=2)\n",
    "\n",
    "        plt.title(\"Distribution of Lower Bounds by Class\")\n",
    "        plt.xlabel(\"Lower Bound\")\n",
    "        plt.ylabel(\"Estimated Density\")\n",
    "        plt.legend()\n",
    "        plt.xticks(np.arange(0, 1.1, 0.1)) \n",
    "        plt.grid(True)\n",
    "        plt.show()\n",
    "    "
   ]
  },
  {
   "cell_type": "markdown",
   "id": "1f4a636f",
   "metadata": {},
   "source": [
    "#### Frame CRF"
   ]
  },
  {
   "cell_type": "code",
   "execution_count": 4,
   "id": "ae147bfb",
   "metadata": {},
   "outputs": [],
   "source": [
    "class FrameCRFApproach:\n",
    "    def __init__(self, num_classes: int, penalty_factor: float = 0.1, epsilon: float = 1e-8):\n",
    "        self.num_classes = num_classes\n",
    "        self.penalty_factor = penalty_factor\n",
    "        self.epsilon = epsilon\n",
    "        self.best_params = None\n",
    "        self.thresholds_per_class = None\n",
    "        self.class_threshold_values_tensor = None\n",
    "\n",
    "    def set_optimal_thresholds(self, thresholds: dict):\n",
    "        self.thresholds_per_class = thresholds\n",
    "        self.class_threshold_values_tensor = torch.zeros(self.num_classes)\n",
    "        for i in range(self.num_classes):\n",
    "            self.class_threshold_values_tensor[i] = thresholds.get(f'class_{i}', {}).get('threshold_value', 0.0)\n",
    "\n",
    "    def _prepare_unary_energies(self, probs: torch.Tensor, lower_bounds: torch.Tensor):\n",
    "        if self.class_threshold_values_tensor is None:\n",
    "            raise ValueError(\"Os limiares ótimos devem ser definidos com 'set_optimal_thresholds'.\")\n",
    "        \n",
    "        device = probs.device\n",
    "        self.class_threshold_values_tensor = self.class_threshold_values_tensor.to(device)\n",
    "        \n",
    "        adjusted_probs = probs.clone()\n",
    "        predicted_classes = torch.argmax(probs, dim=0)\n",
    "\n",
    "        threshold_for_each_pixel = self.class_threshold_values_tensor[predicted_classes.flatten()].reshape(predicted_classes.shape)\n",
    "        confidence_score_for_each_pixel = torch.gather(lower_bounds, 0, predicted_classes.unsqueeze(0)).squeeze(0)\n",
    "        \n",
    "        uncertain_mask = (confidence_score_for_each_pixel < threshold_for_each_pixel)\n",
    "        is_not_background_mask = (predicted_classes != 0)\n",
    "        final_uncertain_mask = uncertain_mask & is_not_background_mask\n",
    "\n",
    "        if torch.any(final_uncertain_mask):\n",
    "            adjusted_probs_permuted = adjusted_probs.permute(1, 2, 0) # H, W, C\n",
    "            one_hot_pred_class = torch.nn.functional.one_hot(predicted_classes, self.num_classes)\n",
    "            \n",
    "            original_probs_uncertain = adjusted_probs_permuted[final_uncertain_mask]\n",
    "            penalized_probs = original_probs_uncertain * self.penalty_factor\n",
    "            \n",
    "            value_removed = original_probs_uncertain - penalized_probs\n",
    "            value_removed_summed = torch.sum(value_removed * one_hot_pred_class[final_uncertain_mask], dim=1)\n",
    "\n",
    "            adjusted_probs_permuted[final_uncertain_mask] = penalized_probs\n",
    "            adjusted_probs_permuted[final_uncertain_mask, 0] += value_removed_summed\n",
    "\n",
    "            sum_probs = torch.sum(adjusted_probs_permuted[final_uncertain_mask], dim=1, keepdim=True)\n",
    "            adjusted_probs_permuted[final_uncertain_mask] /= sum_probs\n",
    "            \n",
    "            adjusted_probs = adjusted_probs_permuted.permute(2, 0, 1)\n",
    "\n",
    "        return adjusted_probs.cpu().numpy()\n",
    "\n",
    "    def _apply_crf_refinement(self, prob_unary: np.ndarray, sxy_gaussian: float, compat_gaussian: float, iterations: int = 10):\n",
    "        C, H, W = prob_unary.shape\n",
    "        d = dcrf.DenseCRF2D(W, H, C)\n",
    "        unary = -np.log(np.maximum(prob_unary, self.epsilon)).reshape(C, -1).astype(np.float32)\n",
    "        d.setUnaryEnergy(unary)\n",
    "        d.addPairwiseGaussian(sxy=sxy_gaussian, compat=compat_gaussian)\n",
    "        Q = d.inference(iterations)\n",
    "        return np.array(Q).reshape((C, H, W))\n",
    "\n",
    "    def _crf_loss_for_optimization(self, params: list, val_probs: torch.Tensor, val_lower_bounds: torch.Tensor, val_labels: torch.Tensor):\n",
    "        n_samples = val_probs.shape[0]\n",
    "        sxy_gaussian, compat_gaussian = params\n",
    "        all_refined_probs = []\n",
    "\n",
    "        pbar_desc = f\"Optuna Trial (sxy={sxy_gaussian}, compat={compat_gaussian:.2f})\"\n",
    "        for i in tqdm(range(n_samples), desc=pbar_desc, leave=False):\n",
    "            prepared_unary_np = self._prepare_unary_energies(\n",
    "                val_probs[i], val_lower_bounds[i]\n",
    "            )\n",
    "            crf_refined_probs_np = self._apply_crf_refinement(\n",
    "                prepared_unary_np, sxy_gaussian, compat_gaussian\n",
    "            )\n",
    "            all_refined_probs.append(torch.from_numpy(crf_refined_probs_np))\n",
    "\n",
    "        all_refined_probs_tensor = torch.stack(all_refined_probs).to(val_labels.device)\n",
    "        \n",
    "        _, macro_f1 = FrameMetrics.compute_f1_score(\n",
    "            all_refined_probs_tensor, val_labels, self.num_classes\n",
    "        )\n",
    "        return 1.0 - macro_f1\n",
    "\n",
    "    def fit_crf_parameters(self, validation_probs: torch.Tensor, validation_lower_bounds: torch.Tensor, \n",
    "                           validation_labels: torch.Tensor, n_trials: int = 10):\n",
    "        print(\"\\n--- Starting CRF Parameter Optimization with Optuna ---\")\n",
    "        study = optuna.create_study(direction=\"minimize\")\n",
    "        objective_func = lambda trial: self._crf_loss_for_optimization(\n",
    "            [trial.suggest_categorical(\"sxy_gaussian\", [1, 3, 5]), trial.suggest_float(\"compat_gaussian\", 1.0, 5.0)],\n",
    "            validation_probs, validation_lower_bounds, validation_labels\n",
    "        )\n",
    "        study.optimize(objective_func, n_trials=n_trials)\n",
    "        self.best_params = study.best_params\n",
    "        print(f\"--- CRF Optimization Completed. Best parameters: {self.best_params} ---\")\n",
    "\n",
    "    def inference_with_optimized_crf(self, test_probs: torch.Tensor, test_lower_bounds: torch.Tensor):\n",
    "        if self.best_params is None or self.thresholds_per_class is None:\n",
    "            raise ValueError(\"CRF parameters and class thresholds must be optimized/defined first.\")\n",
    "\n",
    "        print(\"\\n--- Applying Optimized CRF on Test Set ---\")\n",
    "        n_samples = test_probs.shape[0]\n",
    "        sxy = int(self.best_params[\"sxy_gaussian\"])\n",
    "        compat = float(self.best_params[\"compat_gaussian\"])\n",
    "        final_refined_probs_list = []\n",
    "\n",
    "        for i in tqdm(range(n_samples), desc=\"Final Inference with CRF\"):\n",
    "            prepared_unary_np = self._prepare_unary_energies(\n",
    "                test_probs[i], test_lower_bounds[i]\n",
    "            )\n",
    "            crf_refined_probs_np = self._apply_crf_refinement(\n",
    "                prepared_unary_np, sxy, compat\n",
    "            )\n",
    "            final_refined_probs_list.append(torch.from_numpy(crf_refined_probs_np))\n",
    "\n",
    "        final_refined_probs = torch.stack(final_refined_probs_list)\n",
    "        final_predictions = final_refined_probs.argmax(dim=1)\n",
    "        return final_refined_probs, final_predictions"
   ]
  },
  {
   "cell_type": "markdown",
   "id": "52a70ca5",
   "metadata": {},
   "source": [
    "#### Frame Threshold"
   ]
  },
  {
   "cell_type": "markdown",
   "id": "8a7764c8",
   "metadata": {},
   "source": [
    "##### Frame Quartile"
   ]
  },
  {
   "cell_type": "code",
   "execution_count": 5,
   "id": "1f1ce60b",
   "metadata": {},
   "outputs": [],
   "source": [
    "class FrameQuartileApproach:\n",
    "    @staticmethod\n",
    "    def optimize_quartile_thresholds_per_class_bayesian(\n",
    "        lower_bounds: torch.Tensor,\n",
    "        labels: torch.Tensor,\n",
    "        validation_probs: torch.Tensor,\n",
    "        num_classes: int = 4,\n",
    "        n_calls: int = 50,\n",
    "        random_state: int = 42, \n",
    "        epsilon: float = 1e-8,\n",
    "    ):\n",
    "        N, C, H, W = lower_bounds.shape\n",
    "        lower_bounds_flat = lower_bounds.permute(0, 2, 3, 1).reshape(-1, C)\n",
    "        labels_flat = labels.view(-1)\n",
    "        validation_probs_flat = validation_probs.permute(0, 2, 3, 1).reshape(-1, C)\n",
    "\n",
    "        space = [Real(0.01, 0.99, name=f'quartile_threshold_class_{i}') for i in range(num_classes)]\n",
    "\n",
    "        @use_named_args(space)\n",
    "        def objective(**quartile_thresholds_args):\n",
    "            current_threshold_values = torch.zeros(num_classes, device=lower_bounds.device)\n",
    "            for i in range(num_classes):\n",
    "                quartile_percentile = quartile_thresholds_args[f'quartile_threshold_class_{i}']\n",
    "                class_i_mask = (labels_flat == i)\n",
    "                if torch.sum(class_i_mask) > 0:\n",
    "                    scores_for_class_i = lower_bounds_flat[class_i_mask, i]\n",
    "                    threshold_value = np.percentile(scores_for_class_i.cpu().numpy(), quartile_percentile * 100)\n",
    "                else:\n",
    "                    threshold_value = 0.0\n",
    "                current_threshold_values[i] = threshold_value\n",
    "\n",
    "            adjusted_probs = validation_probs_flat.clone()\n",
    "            predicted_class_orig_flat = torch.argmax(validation_probs_flat, dim=1)\n",
    "\n",
    "            threshold_for_each_pixel = current_threshold_values[predicted_class_orig_flat]\n",
    "            confidence_score_for_each_pixel = torch.gather(lower_bounds_flat, 1, predicted_class_orig_flat.unsqueeze(1)).squeeze(1)\n",
    "\n",
    "            uncertain_mask = (confidence_score_for_each_pixel < threshold_for_each_pixel)\n",
    "            \n",
    "            is_not_background_mask = (predicted_class_orig_flat != 0)\n",
    "            final_uncertain_mask = uncertain_mask & is_not_background_mask\n",
    "            \n",
    "            if torch.any(final_uncertain_mask):\n",
    "                one_hot_pred_class = torch.nn.functional.one_hot(predicted_class_orig_flat, num_classes=num_classes)\n",
    "                \n",
    "                original_probs_uncertain = adjusted_probs[final_uncertain_mask]\n",
    "                penalized_probs = original_probs_uncertain * PENALTY_FACTOR\n",
    "                \n",
    "                value_removed = original_probs_uncertain - penalized_probs\n",
    "                value_removed_summed = torch.sum(value_removed * one_hot_pred_class[final_uncertain_mask], dim=1)\n",
    "                adjusted_probs[final_uncertain_mask] = penalized_probs\n",
    "                \n",
    "                adjusted_probs[final_uncertain_mask, 0] += value_removed_summed\n",
    "                \n",
    "                adjusted_probs[final_uncertain_mask] /= torch.sum(adjusted_probs[final_uncertain_mask], dim=1, keepdim=True)\n",
    "            \n",
    "            adjusted_probs = torch.max(adjusted_probs, torch.tensor(epsilon, device=adjusted_probs.device))\n",
    "            adjusted_probs = adjusted_probs / torch.sum(adjusted_probs, dim=1, keepdim=True)\n",
    "\n",
    "            _, macro_f1 = FrameMetrics.compute_f1_score(\n",
    "                adjusted_probs.reshape(N, H, W, C).permute(0, 3, 1, 2),\n",
    "                labels,\n",
    "                num_classes\n",
    "            )\n",
    "            return -macro_f1\n",
    "\n",
    "        pbar = tqdm(total=n_calls, desc=\"Optimizing Thresholds\")\n",
    "\n",
    "        last_valid_res = None \n",
    "\n",
    "        def pbar_update(res_obj): \n",
    "            nonlocal last_valid_res \n",
    "            last_valid_res = res_obj \n",
    "            \n",
    "            pbar.update(1)\n",
    "            formatted_x = [f\"{val:.4f}\" for val in res_obj.x]\n",
    "            pbar.set_description(f\"Optimizing Thresholds: [{', '.join(formatted_x)}]\")\n",
    "            pbar.set_postfix({'Best F1 (Macro)': -res_obj.fun})\n",
    "\n",
    "        min_delta = 1e-4\n",
    "        patience = 5\n",
    "        best_loss = float('inf')\n",
    "        epochs_no_improve = 0\n",
    "        \n",
    "        callbacks = [pbar_update]\n",
    "\n",
    "        def early_stopping_callback(res_obj): \n",
    "            nonlocal best_loss, epochs_no_improve\n",
    "            current_loss = res_obj.fun \n",
    "\n",
    "            if current_loss < best_loss - min_delta:\n",
    "                best_loss = current_loss\n",
    "                epochs_no_improve = 0\n",
    "            else:\n",
    "                epochs_no_improve += 1\n",
    "\n",
    "            if epochs_no_improve >= patience:\n",
    "                raise StopIteration(\"Early stopping triggered: no improvement for too many iterations.\")\n",
    "            \n",
    "            return False\n",
    "\n",
    "        callbacks.append(early_stopping_callback)\n",
    "\n",
    "        res = None \n",
    "        try:\n",
    "            res = gp_minimize(\n",
    "                objective,\n",
    "                space,\n",
    "                n_calls=n_calls,\n",
    "                random_state=random_state,\n",
    "                n_initial_points=max(5, len(space) * 2),\n",
    "                acq_func=\"EI\",\n",
    "                callback=callbacks\n",
    "            )\n",
    "            \n",
    "        except StopIteration as e:\n",
    "            print(f\"\\n{e}\")\n",
    "            res = last_valid_res \n",
    "            \n",
    "        if res is None:\n",
    "            raise RuntimeError(\"Optimization did not return a result object. This might happen if early stopping triggers before n_initial_points.\")\n",
    "\n",
    "        pbar.close()\n",
    "\n",
    "        best_quartile_thresholds = res.x\n",
    "        best_macro_f1_from_optimization = -res.fun \n",
    "\n",
    "        final_threshold_values = {}\n",
    "        for i in range(num_classes):\n",
    "            class_i_mask = (labels_flat == i)\n",
    "            \n",
    "            if torch.sum(class_i_mask) > 0:\n",
    "                scores_for_class_i = lower_bounds_flat[class_i_mask, i] \n",
    "                threshold_value = np.percentile(scores_for_class_i.cpu().numpy(), best_quartile_thresholds[i] * 100)\n",
    "            else:\n",
    "                threshold_value = 0.0\n",
    "\n",
    "            final_threshold_values[f'class_{i}'] = {\n",
    "                'quartile_percentile': best_quartile_thresholds[i],\n",
    "                'threshold_value': threshold_value\n",
    "            }\n",
    "\n",
    "        print(\"Bayesian Optimization Completed (Class Thresholds):\")\n",
    "        print(f\"  Best Macro F1-Score Found: {best_macro_f1_from_optimization:.4f}\") \n",
    "        print(\"  Best Thresholds per Class:\")\n",
    "        for class_id, values in final_threshold_values.items():\n",
    "            print(f\"    {class_id}: Percentil={values['quartile_percentile']:.4f}, Valor={values['threshold_value']:.4f}\")\n",
    "\n",
    "        return {\n",
    "            \"best_per_class_thresholds\": final_threshold_values,\n",
    "            \"best_macro_f1\": best_macro_f1_from_optimization \n",
    "        }"
   ]
  },
  {
   "cell_type": "markdown",
   "id": "615a1cda",
   "metadata": {},
   "source": [
    "### Check model calibration"
   ]
  },
  {
   "cell_type": "code",
   "execution_count": 6,
   "id": "b786ae05",
   "metadata": {},
   "outputs": [
    {
     "name": "stdout",
     "output_type": "stream",
     "text": [
      "ECE Score: 0.0024\n"
     ]
    }
   ],
   "source": [
    "ece_score = FrameMetrics.compute_ece(val_probs, val_labels, n_bins=10)\n",
    "print(f\"ECE Score: {ece_score:.4f}\")"
   ]
  },
  {
   "cell_type": "markdown",
   "id": "ca79a7cf",
   "metadata": {},
   "source": [
    "### Check class imbalance"
   ]
  },
  {
   "cell_type": "code",
   "execution_count": 7,
   "id": "3edfbdc8",
   "metadata": {},
   "outputs": [
    {
     "name": "stdout",
     "output_type": "stream",
     "text": [
      "Classe 0: 24946666 samples — 94.89% of total\n",
      "Classe 1: 976055 samples — 3.71% of total\n",
      "Classe 2: 327252 samples — 1.24% of total\n",
      "Classe 3: 40683 samples — 0.15% of total\n"
     ]
    },
    {
     "data": {
      "image/png": "[encoded data removed]",
      "text/plain": [
       "<Figure size 640x480 with 1 Axes>"
      ]
     },
     "metadata": {},
     "output_type": "display_data"
    }
   ],
   "source": [
    "FrameMetrics.compute_inbalance(val_labels)"
   ]
  },
  {
   "cell_type": "markdown",
   "id": "aa69ede7",
   "metadata": {},
   "source": [
    "### Lower Bound"
   ]
  },
  {
   "cell_type": "code",
   "execution_count": 8,
   "id": "d1690003",
   "metadata": {},
   "outputs": [
    {
     "name": "stdout",
     "output_type": "stream",
     "text": [
      "Lower Bound shape: torch.Size([21, 4, 966, 1296])\n"
     ]
    },
    {
     "data": {
      "image/png": "[encoded data removed]",
      "text/plain": [
       "<Figure size 800x400 with 1 Axes>"
      ]
     },
     "metadata": {},
     "output_type": "display_data"
    }
   ],
   "source": [
    "val_lower_bound = FrameImpreciseProbsframe.obtain_lower_bound(val_probs, alpha=ALPHA_FACTOR)\n",
    "test_lower_bound = FrameImpreciseProbsframe.obtain_lower_bound(test_probs, alpha=ALPHA_FACTOR)\n",
    "print(f\"Lower Bound shape: {val_lower_bound.shape}\") \n",
    "FrameImpreciseProbsframe.plot_lower_bound_distribution(val_lower_bound, val_labels, sample_size=10000)   "
   ]
  },
  {
   "cell_type": "markdown",
   "id": "f5635683",
   "metadata": {},
   "source": [
    "### Threshold"
   ]
  },
  {
   "cell_type": "code",
   "execution_count": 9,
   "id": "e708564d",
   "metadata": {},
   "outputs": [
    {
     "name": "stdout",
     "output_type": "stream",
     "text": [
      "--- Step 1: Optimizing Confidence Thresholds per Class (using validation) ---\n"
     ]
    },
    {
     "name": "stderr",
     "output_type": "stream",
     "text": [
      "Optimizing Thresholds: [0.9900, 0.0100, 0.1447, 0.3210]: 100%|██████████| 20/20 [03:57<00:00, 11.86s/it, Best F1 (Macro)=0.756]\n"
     ]
    },
    {
     "name": "stdout",
     "output_type": "stream",
     "text": [
      "\n",
      "Early stopping triggered: no improvement for too many iterations.\n",
      "Bayesian Optimization Completed (Class Thresholds):\n",
      "  Best Macro F1-Score Found: 0.7562\n",
      "  Best Thresholds per Class:\n",
      "    class_0: Percentil=0.9900, Valor=1.0000\n",
      "    class_1: Percentil=0.0100, Valor=0.0000\n",
      "    class_2: Percentil=0.1447, Valor=0.1361\n",
      "    class_3: Percentil=0.3210, Valor=0.1349\n",
      "\n",
      "Optimal Thresholds per Class:\n",
      "  class_0: Quartile=0.9900, Threshold=1.0000\n",
      "  class_1: Quartile=0.0100, Threshold=0.0000\n",
      "  class_2: Quartile=0.1447, Threshold=0.1361\n",
      "  class_3: Quartile=0.3210, Threshold=0.1349\n"
     ]
    }
   ],
   "source": [
    "print(\"--- Step 1: Optimizing Confidence Thresholds per Class (using validation) ---\")\n",
    "threshold_results = FrameQuartileApproach.optimize_quartile_thresholds_per_class_bayesian(\n",
    "    lower_bounds=val_lower_bound,\n",
    "    labels=val_labels,\n",
    "    validation_probs=val_probs,\n",
    "    num_classes=4,\n",
    "    n_calls=20\n",
    ")\n",
    "\n",
    "optimal_thresholds = threshold_results[\"best_per_class_thresholds\"]\n",
    "print(\"\\nOptimal Thresholds per Class:\")\n",
    "for class_id, values in optimal_thresholds.items():\n",
    "    print(f\"  {class_id}: Quartile={values['quartile_percentile']:.4f}, Threshold={values['threshold_value']:.4f}\")"
   ]
  },
  {
   "cell_type": "markdown",
   "id": "2c14fea6",
   "metadata": {},
   "source": [
    "### CRF"
   ]
  },
  {
   "cell_type": "markdown",
   "id": "500d53d2",
   "metadata": {},
   "source": [
    "#### Train"
   ]
  },
  {
   "cell_type": "code",
   "execution_count": 10,
   "id": "703f2fd0",
   "metadata": {},
   "outputs": [
    {
     "name": "stderr",
     "output_type": "stream",
     "text": [
      "[I 2025-07-31 08:46:47,442] A new study created in memory with name: no-name-52b1aaa3-253c-45cf-b41f-e0b7cc4fa9a9\n"
     ]
    },
    {
     "name": "stdout",
     "output_type": "stream",
     "text": [
      "\n",
      "--- Step 2: Optimizing CRF Parameters (using validation and optimal thresholds) ---\n",
      "\n",
      "--- Starting CRF Parameter Optimization with Optuna ---\n"
     ]
    },
    {
     "name": "stderr",
     "output_type": "stream",
     "text": [
      "[I 2025-07-31 08:47:23,626] Trial 0 finished with value: 0.26213957781017627 and parameters: {'sxy_gaussian': 5, 'compat_gaussian': 3.650826527882888}. Best is trial 0 with value: 0.26213957781017627.\n",
      "[I 2025-07-31 08:48:00,161] Trial 1 finished with value: 0.24911275512808606 and parameters: {'sxy_gaussian': 3, 'compat_gaussian': 4.301724180797262}. Best is trial 1 with value: 0.24911275512808606.\n",
      "[I 2025-07-31 08:48:36,084] Trial 2 finished with value: 0.2688098663160421 and parameters: {'sxy_gaussian': 5, 'compat_gaussian': 4.465415714663473}. Best is trial 1 with value: 0.24911275512808606.\n",
      "[I 2025-07-31 08:49:12,661] Trial 3 finished with value: 0.2465416244950014 and parameters: {'sxy_gaussian': 3, 'compat_gaussian': 3.039594019855235}. Best is trial 3 with value: 0.2465416244950014.\n",
      "[I 2025-07-31 08:49:49,191] Trial 4 finished with value: 0.24939621445547344 and parameters: {'sxy_gaussian': 3, 'compat_gaussian': 4.452847854231134}. Best is trial 3 with value: 0.2465416244950014.\n",
      "[I 2025-07-31 08:50:25,587] Trial 5 finished with value: 0.24606605153424488 and parameters: {'sxy_gaussian': 3, 'compat_gaussian': 2.862292821258485}. Best is trial 5 with value: 0.24606605153424488.\n",
      "[I 2025-07-31 08:51:02,156] Trial 6 finished with value: 0.2474806985358743 and parameters: {'sxy_gaussian': 3, 'compat_gaussian': 3.4781810083013847}. Best is trial 5 with value: 0.24606605153424488.\n",
      "[I 2025-07-31 08:51:38,643] Trial 7 finished with value: 0.2493932526046143 and parameters: {'sxy_gaussian': 3, 'compat_gaussian': 4.450466019699151}. Best is trial 5 with value: 0.24606605153424488.\n",
      "[I 2025-07-31 08:52:14,697] Trial 8 finished with value: 0.24486969181135 and parameters: {'sxy_gaussian': 5, 'compat_gaussian': 1.0887908623339526}. Best is trial 8 with value: 0.24486969181135.\n",
      "[I 2025-07-31 08:52:51,271] Trial 9 finished with value: 0.24846566335583886 and parameters: {'sxy_gaussian': 3, 'compat_gaussian': 3.968190080628177}. Best is trial 8 with value: 0.24486969181135.\n"
     ]
    },
    {
     "name": "stdout",
     "output_type": "stream",
     "text": [
      "--- CRF Optimization Completed. Best parameters: {'sxy_gaussian': 5, 'compat_gaussian': 1.0887908623339526} ---\n",
      "\n",
      "Optimal CRF Parameters: {'sxy_gaussian': 5, 'compat_gaussian': 1.0887908623339526}\n"
     ]
    }
   ],
   "source": [
    "print(\"\\n--- Step 2: Optimizing CRF Parameters (using validation and optimal thresholds) ---\")\n",
    "\n",
    "crf_optimizer = FrameCRFApproach(num_classes=4, penalty_factor=PENALTY_FACTOR)\n",
    "crf_optimizer.set_optimal_thresholds(optimal_thresholds)\n",
    "\n",
    "crf_optimizer.fit_crf_parameters(\n",
    "    validation_probs=val_probs,\n",
    "    validation_lower_bounds=val_lower_bound, \n",
    "    validation_labels=val_labels,\n",
    "    n_trials=10\n",
    ")\n",
    "\n",
    "print(f\"\\nOptimal CRF Parameters: {crf_optimizer.best_params}\")"
   ]
  },
  {
   "cell_type": "markdown",
   "id": "39187f92",
   "metadata": {},
   "source": [
    "#### Inference"
   ]
  },
  {
   "cell_type": "code",
   "execution_count": 11,
   "id": "57f17554",
   "metadata": {},
   "outputs": [
    {
     "name": "stdout",
     "output_type": "stream",
     "text": [
      "\n",
      "--- Step 3: Performing Final Inference and Evaluation (using test data) ---\n",
      "\n",
      "--- Applying Optimized CRF on Test Set ---\n"
     ]
    },
    {
     "name": "stderr",
     "output_type": "stream",
     "text": [
      "Final Inference with CRF: 100%|██████████| 43/43 [00:51<00:00,  1.20s/it]\n"
     ]
    }
   ],
   "source": [
    "print(\"\\n--- Step 3: Performing Final Inference and Evaluation (using test data) ---\")\n",
    "\n",
    "final_refined_probs_test, final_predictions_test = crf_optimizer.inference_with_optimized_crf(\n",
    "    test_probs=test_probs,\n",
    "    test_lower_bounds=test_lower_bound\n",
    ")\n"
   ]
  },
  {
   "cell_type": "markdown",
   "id": "63b91525",
   "metadata": {},
   "source": [
    "### FINAL PERFORMANCE"
   ]
  },
  {
   "cell_type": "code",
   "execution_count": 12,
   "id": "97c2096e",
   "metadata": {},
   "outputs": [
    {
     "name": "stdout",
     "output_type": "stream",
     "text": [
      "\n",
      "--- Performance Results (Macro F1-Score and Per Class) ---\n",
      "\n",
      "## Baseline (Deep Learning Model Only)\n",
      "F1-Score (Macro): 0.7499\n",
      "F1-Score Per Class:\n",
      "  Class 0: 0.9914\n",
      "  Class 1: 0.9290\n",
      "  Class 2: 0.6680\n",
      "  Class 3: 0.4111\n",
      "\n",
      "## Your Refined Approach (DL + Thresholds + CRF)\n",
      "F1-Score (Macro): 0.7503\n",
      "F1-Score Per Class:\n",
      "  Class 0: 0.9915\n",
      "  Class 1: 0.9290\n",
      "  Class 2: 0.6705\n",
      "  Class 3: 0.4102\n",
      "\n",
      "## Improvement Analysis\n",
      "Overall Improvement (Macro F1): Method improved the Macro F1-Score by 0.06%.\n",
      "\n",
      "Process Completed! Check the F1-Scores per class for detailed insights.\n"
     ]
    }
   ],
   "source": [
    "print(\"\\n--- Performance Results (Macro F1-Score and Per Class) ---\")\n",
    "\n",
    "print(\"\\n## Baseline (Deep Learning Model Only)\")\n",
    "baseline_f1_per_class, baseline_macro_f1 = FrameMetrics.compute_f1_score(test_probs, test_labels, num_classes=4)\n",
    "print(f\"F1-Score (Macro): {baseline_macro_f1:.4f}\")\n",
    "print(\"F1-Score Per Class:\")\n",
    "for i, f1 in enumerate(baseline_f1_per_class):\n",
    "    print(f\"  Class {i}: {f1:.4f}\")\n",
    "\n",
    "print(\"\\n## Your Refined Approach (DL + Thresholds + CRF)\")\n",
    "refined_f1_per_class, refined_macro_f1 = FrameMetrics.compute_f1_score(final_refined_probs_test, test_labels, num_classes=4)\n",
    "print(f\"F1-Score (Macro): {refined_macro_f1:.4f}\")\n",
    "print(\"F1-Score Per Class:\")\n",
    "for i, f1 in enumerate(refined_f1_per_class):\n",
    "    print(f\"  Class {i}: {f1:.4f}\")\n",
    "\n",
    "print(\"\\n## Improvement Analysis\")\n",
    "if refined_macro_f1 > baseline_macro_f1:\n",
    "    improvement = (refined_macro_f1 - baseline_macro_f1) / baseline_macro_f1 * 100\n",
    "    print(f\"Overall Improvement (Macro F1): Method improved the Macro F1-Score by {improvement:.2f}%.\")\n",
    "elif refined_macro_f1 < baseline_macro_f1:\n",
    "    drop = (baseline_macro_f1 - refined_macro_f1) / baseline_macro_f1 * 100\n",
    "    print(f\"Overall Decline (Macro F1): Method decreased the Macro F1-Score by {drop:.2f}%.\")\n",
    "else:\n",
    "    print(\"No significant change in Macro F1-Score.\")\n",
    "\n",
    "print(\"\\nProcess Completed! Check the F1-Scores per class for detailed insights.\")"
   ]
  }
 ],
 "metadata": {
  "kernelspec": {
   "display_name": "myenv",
   "language": "python",
   "name": "python3"
  },
  "language_info": {
   "codemirror_mode": {
    "name": "ipython",
    "version": 3
   },
   "file_extension": ".py",
   "mimetype": "text/x-python",
   "name": "python",
   "nbconvert_exporter": "python",
   "pygments_lexer": "ipython3",
   "version": "3.11.9"
  }
 },
 "nbformat": 4,
 "nbformat_minor": 5
}
