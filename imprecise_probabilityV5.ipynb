{
 "cells": [
  {
   "cell_type": "markdown",
   "id": "0fd9b8bc",
   "metadata": {},
   "source": [
    "### Read the train and test logits/likelyhoods"
   ]
  },
  {
   "cell_type": "code",
   "execution_count": 1,
   "id": "b66603ec",
   "metadata": {},
   "outputs": [
    {
     "name": "stdout",
     "output_type": "stream",
     "text": [
      "Validation logits shape: torch.Size([21, 4, 966, 1296])\n",
      "Validation images shape: torch.Size([21, 3, 966, 1296])\n",
      "Validation labels shape: torch.Size([21, 966, 1296])\n",
      "Validation probabilities shape: torch.Size([21, 4, 966, 1296])\n"
     ]
    }
   ],
   "source": [
    "import torch\n",
    "import numpy as np\n",
    "import matplotlib.pyplot as plt\n",
    "import torch.nn.functional as F\n",
    "import seaborn as sns\n",
    "from sklearn.metrics import f1_score\n",
    "from netcal.metrics import ECE\n",
    "from skopt import gp_minimize\n",
    "from skopt.space import Real\n",
    "from skopt.utils import use_named_args\n",
    "from tqdm import tqdm\n",
    "import pydensecrf.densecrf as dcrf\n",
    "import optuna\n",
    "\n",
    "val_path = 'calibration_logits.pth'\n",
    "test_path = 'test_logits.pth'\n",
    "\n",
    "val_data = torch.load(val_path, weights_only=False)\n",
    "test_data = torch.load(test_path, weights_only=False)\n",
    "\n",
    "val_logits = val_data[\"logits\"] \n",
    "val_images = val_data[\"images\"]  \n",
    "val_labels = val_data[\"masks\"]    \n",
    "val_probs = F.softmax(val_logits, dim=1)\n",
    "\n",
    "test_logits = test_data[\"logits\"] \n",
    "test_images = test_data[\"images\"]  \n",
    "test_labels = test_data[\"masks\"]    \n",
    "test_probs = F.softmax(test_logits, dim=1)\n",
    "\n",
    "print(\"Validation logits shape:\", val_logits.shape)\n",
    "print(\"Validation images shape:\", val_images.shape)\n",
    "print(\"Validation labels shape:\", val_labels.shape)\n",
    "print(\"Validation probabilities shape:\", val_probs.shape)       "
   ]
  },
  {
   "cell_type": "markdown",
   "id": "2aba910f",
   "metadata": {},
   "source": [
    "### Frameworks"
   ]
  },
  {
   "cell_type": "markdown",
   "id": "d7a6b6fa",
   "metadata": {},
   "source": [
    "#### FrameMetrics"
   ]
  },
  {
   "cell_type": "code",
   "execution_count": 2,
   "id": "30055be2",
   "metadata": {},
   "outputs": [],
   "source": [
    "class FrameMetrics:\n",
    "\n",
    "    def compute_ece(probs, labels, n_bins=10):\n",
    "        N, C, H, W = probs.shape\n",
    "        probs_flat = probs.permute(0, 2, 3, 1).reshape(-1, C) \n",
    "        labels_flat = labels.view(-1)  # (N*H*W,)\n",
    "        probs_np  = probs_flat.detach().cpu().numpy()  \n",
    "        labels_np = labels_flat.detach().cpu().numpy() \n",
    "        \n",
    "        ece = ECE(bins=n_bins)\n",
    "        ece_score = ece.measure(probs_np, labels_np)\n",
    "        return ece_score\n",
    "    \n",
    "    def compute_inbalance(labels):\n",
    "        labels_flat = labels.view(-1)               \n",
    "        labels_np   = labels_flat.detach().cpu().numpy()\n",
    "\n",
    "        classes, counts = np.unique(labels_np, return_counts=True)\n",
    "        total           = labels_np.shape[0]\n",
    "        percentages     = counts / total * 100\n",
    "\n",
    "        for cls, cnt, pct in zip(classes, counts, percentages):\n",
    "            print(f\"Classe {cls}: {cnt} samples — {pct:.2f}% of total\")\n",
    "\n",
    "        fig, ax = plt.subplots()\n",
    "        bars = ax.bar(classes, counts)\n",
    "\n",
    "        for bar, pct in zip(bars, percentages):\n",
    "            ax.text(\n",
    "                bar.get_x() + bar.get_width() / 2,  \n",
    "                bar.get_height(),                   \n",
    "                f'{pct:.2f}%',                      \n",
    "                ha='center',                        \n",
    "                va='bottom'                         \n",
    "            )\n",
    "\n",
    "        ax.set_xlabel('Index of class')\n",
    "        ax.set_ylabel('Number of samples')\n",
    "        ax.set_title('Class Distribution')\n",
    "        ax.set_xticks(classes)\n",
    "        plt.show()\n",
    "\n",
    "    def compute_f1_score(probs, labels, num_classes): \n",
    "        N, C, H, W = probs.shape\n",
    "        probs_flat = probs.permute(0, 2, 3, 1).reshape(-1, C)  \n",
    "        labels_flat = labels.view(-1)  \n",
    "\n",
    "        preds_flat = torch.argmax(probs_flat, dim=1)\n",
    "        labels_np = labels_flat.cpu().numpy()\n",
    "        preds_np = preds_flat.cpu().numpy()\n",
    "\n",
    "        f1_per_class = f1_score(labels_np, preds_np, average=None,\n",
    "                                labels=range(num_classes), zero_division=0)\n",
    "\n",
    "        macro_f1 = f1_score(labels_np, preds_np, average='macro',\n",
    "                               labels=range(num_classes), zero_division=0)\n",
    "\n",
    "        return f1_per_class, macro_f1"
   ]
  },
  {
   "cell_type": "markdown",
   "id": "c738f868",
   "metadata": {},
   "source": [
    "#### Frame HyperparameterOptimizer"
   ]
  },
  {
   "cell_type": "code",
   "execution_count": 3,
   "id": "1b73586d",
   "metadata": {},
   "outputs": [],
   "source": [
    "class FrameHyperparameterOptimizer:\n",
    "    @staticmethod\n",
    "    def optimize_hyperparameters_bayesian(initial_probs, labels, num_classes=4, n_calls=75, random_state=42):\n",
    "        N, C, H, W = initial_probs.shape\n",
    "        \n",
    "        space = [\n",
    "            Real(0.01, 0.5, name='penalty_factor')\n",
    "        ]\n",
    "        for i in range(num_classes):\n",
    "            space.append(Real(0.01, 0.99, name=f'quartile_threshold_class_{i}'))\n",
    "\n",
    "        @use_named_args(space)\n",
    "        def objective(**params):\n",
    "            penalty_factor = params['penalty_factor']\n",
    "            \n",
    "            probs_flat = initial_probs.permute(0, 2, 3, 1).reshape(-1, C)\n",
    "            labels_flat = labels.view(-1)\n",
    "            \n",
    "            confidence_scores_gt = torch.gather(probs_flat, 1, labels_flat.unsqueeze(1)).squeeze(1)\n",
    "\n",
    "            current_threshold_values = torch.zeros(num_classes, device=initial_probs.device)\n",
    "            for i in range(num_classes):\n",
    "                quartile_percentile = params[f'quartile_threshold_class_{i}']\n",
    "                class_i_mask = (labels_flat == i)\n",
    "                if torch.sum(class_i_mask) > 0:\n",
    "                    scores_for_class_i = confidence_scores_gt[class_i_mask]\n",
    "                    threshold_value = np.percentile(scores_for_class_i.cpu().numpy(), quartile_percentile * 100)\n",
    "                else:\n",
    "                    threshold_value = 0.0\n",
    "                current_threshold_values[i] = threshold_value\n",
    "\n",
    "            adjusted_probs = probs_flat.clone()\n",
    "            predicted_class_orig_flat = torch.argmax(probs_flat, dim=1)\n",
    "            \n",
    "            confidence_score_for_each_pixel = torch.max(probs_flat, dim=1).values\n",
    "            \n",
    "            threshold_for_each_pixel = current_threshold_values[predicted_class_orig_flat]\n",
    "\n",
    "            uncertain_mask = (confidence_score_for_each_pixel < threshold_for_each_pixel)\n",
    "            is_not_background_mask = (predicted_class_orig_flat != 0)\n",
    "            final_uncertain_mask = uncertain_mask & is_not_background_mask\n",
    "            \n",
    "            if torch.any(final_uncertain_mask):\n",
    "                one_hot_pred_class = torch.nn.functional.one_hot(predicted_class_orig_flat, num_classes=num_classes)\n",
    "                original_probs_uncertain = adjusted_probs[final_uncertain_mask]\n",
    "                penalized_probs = original_probs_uncertain * penalty_factor\n",
    "                value_removed = original_probs_uncertain - penalized_probs\n",
    "                value_removed_summed = torch.sum(value_removed * one_hot_pred_class[final_uncertain_mask], dim=1)\n",
    "                adjusted_probs[final_uncertain_mask] = penalized_probs\n",
    "                \n",
    "                current_bg_probs = adjusted_probs[final_uncertain_mask, 0]\n",
    "                adjusted_probs[final_uncertain_mask, 0] = current_bg_probs + value_removed_summed\n",
    "                \n",
    "                adjusted_probs[final_uncertain_mask] /= torch.sum(adjusted_probs[final_uncertain_mask], dim=1, keepdim=True)\n",
    "\n",
    "            adjusted_probs = torch.max(adjusted_probs, torch.tensor(1e-8, device=adjusted_probs.device))\n",
    "            adjusted_probs = adjusted_probs / torch.sum(adjusted_probs, dim=1, keepdim=True)\n",
    "\n",
    "            _, macro_f1 = FrameMetrics.compute_f1_score(\n",
    "                adjusted_probs.reshape(N, H, W, C).permute(0, 3, 1, 2),\n",
    "                labels,\n",
    "                num_classes\n",
    "            )\n",
    "            return -macro_f1\n",
    "\n",
    "        pbar = tqdm(total=n_calls, desc=\"Optimizing hyperparameters\")\n",
    "        def pbar_callback(res):\n",
    "            pbar.update(1)\n",
    "            pbar.set_postfix_str(f\"Melhor F1 Macro: {-res.fun:.4f}\")\n",
    "        res = gp_minimize(objective, space, n_calls=n_calls, random_state=random_state, callback=pbar_callback)\n",
    "        pbar.close()\n",
    "\n",
    "        best_params = {space[i].name: res.x[i] for i in range(len(space))}\n",
    "        return best_params\n",
    "    \n",
    "    def calculate_final_thresholds(best_hyperparams, initial_probs, labels):\n",
    "        num_classes = initial_probs.shape[1]\n",
    "        probs_flat = initial_probs.permute(0, 2, 3, 1).reshape(-1, num_classes)\n",
    "        labels_flat = labels.view(-1)\n",
    "        \n",
    "        confidence_scores_gt = torch.gather(probs_flat, 1, labels_flat.unsqueeze(1)).squeeze(1)\n",
    "\n",
    "        final_thresholds = {}\n",
    "        for i in range(num_classes):\n",
    "            quartile_percentile = best_hyperparams[f'quartile_threshold_class_{i}']\n",
    "            class_i_mask = (labels_flat == i)\n",
    "            threshold_value = 0.0\n",
    "            if torch.sum(class_i_mask) > 0:\n",
    "                scores_for_class_i = confidence_scores_gt[class_i_mask]\n",
    "                threshold_value = np.percentile(scores_for_class_i.cpu().numpy(), quartile_percentile * 100)\n",
    "            \n",
    "            final_thresholds[f'class_{i}'] = {\n",
    "                'quartile_percentile': quartile_percentile,\n",
    "                'threshold_value': threshold_value\n",
    "            }\n",
    "        return final_thresholds"
   ]
  },
  {
   "cell_type": "markdown",
   "id": "1f4a636f",
   "metadata": {},
   "source": [
    "#### Frame CRF"
   ]
  },
  {
   "cell_type": "code",
   "execution_count": 4,
   "id": "ae147bfb",
   "metadata": {},
   "outputs": [],
   "source": [
    "class FrameCRFApproach:\n",
    "    def __init__(self, num_classes, penalty_factor=0.1, epsilon=1e-8):\n",
    "        self.num_classes = num_classes\n",
    "        self.penalty_factor = penalty_factor\n",
    "        self.epsilon = epsilon\n",
    "        self.best_params = None\n",
    "        self.thresholds_per_class = None\n",
    "        self.class_threshold_values_tensor = None\n",
    "\n",
    "    def set_optimal_thresholds(self, thresholds):\n",
    "        self.thresholds_per_class = thresholds\n",
    "        self.class_threshold_values_tensor = torch.zeros(self.num_classes)\n",
    "        for i in range(self.num_classes):\n",
    "            self.class_threshold_values_tensor[i] = thresholds.get(f'class_{i}', {}).get('threshold_value', 0.0)\n",
    "\n",
    "    def _prepare_unary_energies(self, probs):\n",
    "        if self.class_threshold_values_tensor is None:\n",
    "            raise ValueError(\"Os limiares ótimos devem ser definidos com 'set_optimal_thresholds'.\")\n",
    "        \n",
    "        device = probs.device\n",
    "        self.class_threshold_values_tensor = self.class_threshold_values_tensor.to(device)\n",
    "\n",
    "        adjusted_probs_permuted = probs.permute(1, 2, 0)\n",
    "        \n",
    "        predicted_classes = torch.argmax(probs, dim=0)\n",
    "        confidence_score_for_each_pixel = torch.max(probs, dim=0).values\n",
    "        threshold_for_each_pixel = self.class_threshold_values_tensor[predicted_classes.flatten()].reshape(predicted_classes.shape)\n",
    "    \n",
    "        uncertain_mask = (confidence_score_for_each_pixel < threshold_for_each_pixel)\n",
    "        is_not_background_mask = (predicted_classes != 0)\n",
    "        final_uncertain_mask = uncertain_mask & is_not_background_mask\n",
    "\n",
    "        if torch.any(final_uncertain_mask):\n",
    "            one_hot_pred_class = torch.nn.functional.one_hot(predicted_classes, self.num_classes)\n",
    "            \n",
    "            uncertain_pixel_probs = adjusted_probs_permuted[final_uncertain_mask]\n",
    "            uncertain_one_hot = one_hot_pred_class[final_uncertain_mask]\n",
    "\n",
    "            penalized_probs = uncertain_pixel_probs * self.penalty_factor\n",
    "            \n",
    "            value_removed = (uncertain_pixel_probs - penalized_probs) * uncertain_one_hot\n",
    "            value_removed_summed = torch.sum(value_removed, dim=1)\n",
    "\n",
    "            modified_probs = penalized_probs.clone()\n",
    "            modified_probs[:, 0] = modified_probs[:, 0] + value_removed_summed\n",
    "\n",
    "            sum_probs = torch.sum(modified_probs, dim=1, keepdim=True)\n",
    "            modified_probs = modified_probs / (sum_probs + 1e-8)\n",
    "\n",
    "            adjusted_probs_permuted[final_uncertain_mask] = modified_probs\n",
    "        \n",
    "        return adjusted_probs_permuted.permute(2, 0, 1).cpu().numpy()\n",
    "\n",
    "    def _apply_crf_refinement(self, prob_unary, sxy_gaussian, compat_gaussian, iterations=10):\n",
    "        C, H, W = prob_unary.shape\n",
    "        d = dcrf.DenseCRF2D(W, H, C)\n",
    "        unary = -np.log(np.maximum(prob_unary, self.epsilon)).reshape(C, -1).astype(np.float32)\n",
    "        d.setUnaryEnergy(unary)\n",
    "        d.addPairwiseGaussian(sxy=sxy_gaussian, compat=compat_gaussian)\n",
    "        Q = d.inference(iterations)\n",
    "        return np.array(Q).reshape((C, H, W))\n",
    "\n",
    "    def _crf_loss_for_optimization(self, params, val_probs, val_labels):\n",
    "        n_samples = val_probs.shape[0]\n",
    "        sxy_gaussian, compat_gaussian = params\n",
    "        all_refined_probs = []\n",
    "\n",
    "        pbar_desc = f\"Optuna Trial (sxy={sxy_gaussian}, compat={compat_gaussian:.2f})\"\n",
    "        for i in tqdm(range(n_samples), desc=pbar_desc, leave=False):\n",
    "            prepared_unary_np = self._prepare_unary_energies(val_probs[i])\n",
    "            crf_refined_probs_np = self._apply_crf_refinement(prepared_unary_np, sxy_gaussian, compat_gaussian)\n",
    "            all_refined_probs.append(torch.from_numpy(crf_refined_probs_np))\n",
    "\n",
    "        all_refined_probs_tensor = torch.stack(all_refined_probs).to(val_labels.device)\n",
    "        _, macro_f1 = FrameMetrics.compute_f1_score(all_refined_probs_tensor, val_labels, self.num_classes)\n",
    "        return 1.0 - macro_f1\n",
    "\n",
    "    def fit_crf_parameters(self, validation_probs, validation_labels, n_trials=10):\n",
    "        print(\"\\n--- Starting CRF Parameter Optimization with Optuna ---\")\n",
    "        study = optuna.create_study(direction=\"minimize\")\n",
    "        objective_func = lambda trial: self._crf_loss_for_optimization(\n",
    "            [trial.suggest_categorical(\"sxy_gaussian\", [1, 3, 5]), trial.suggest_float(\"compat_gaussian\", 1.0, 5.0)],\n",
    "            validation_probs, validation_labels\n",
    "        )\n",
    "        study.optimize(objective_func, n_trials=n_trials)\n",
    "        self.best_params = study.best_params\n",
    "        print(f\"--- CRF Optimization Completed. Best parameters: {self.best_params} ---\")\n",
    "\n",
    "    def inference_with_optimized_crf(self, test_probs):\n",
    "        if self.best_params is None or self.thresholds_per_class is None:\n",
    "            raise ValueError(\"CRF parameters and class thresholds must be optimized/defined first.\")\n",
    "\n",
    "        print(\"\\n--- Applying Optimized CRF on Test Set ---\")\n",
    "        n_samples = test_probs.shape[0]\n",
    "        sxy = int(self.best_params[\"sxy_gaussian\"])\n",
    "        compat = float(self.best_params[\"compat_gaussian\"])\n",
    "        final_refined_probs_list = []\n",
    "\n",
    "        for i in tqdm(range(n_samples), desc=\"Final Inference with CRF\"):\n",
    "            prepared_unary_np = self._prepare_unary_energies(test_probs[i])\n",
    "            crf_refined_probs_np = self._apply_crf_refinement(prepared_unary_np, sxy, compat)\n",
    "            final_refined_probs_list.append(torch.from_numpy(crf_refined_probs_np))\n",
    "\n",
    "        final_refined_probs = torch.stack(final_refined_probs_list)\n",
    "        final_predictions = final_refined_probs.argmax(dim=1)\n",
    "        return final_refined_probs, final_predictions"
   ]
  },
  {
   "cell_type": "markdown",
   "id": "615a1cda",
   "metadata": {},
   "source": [
    "### Check model calibration"
   ]
  },
  {
   "cell_type": "code",
   "execution_count": 5,
   "id": "b786ae05",
   "metadata": {},
   "outputs": [
    {
     "name": "stdout",
     "output_type": "stream",
     "text": [
      "ECE Score: 0.0024\n"
     ]
    }
   ],
   "source": [
    "ece_score = FrameMetrics.compute_ece(val_probs, val_labels, n_bins=10)\n",
    "print(f\"ECE Score: {ece_score:.4f}\")"
   ]
  },
  {
   "cell_type": "markdown",
   "id": "ca79a7cf",
   "metadata": {},
   "source": [
    "### Check class imbalance"
   ]
  },
  {
   "cell_type": "code",
   "execution_count": 6,
   "id": "3edfbdc8",
   "metadata": {},
   "outputs": [
    {
     "name": "stdout",
     "output_type": "stream",
     "text": [
      "Classe 0: 24946666 samples — 94.89% of total\n",
      "Classe 1: 976055 samples — 3.71% of total\n",
      "Classe 2: 327252 samples — 1.24% of total\n",
      "Classe 3: 40683 samples — 0.15% of total\n"
     ]
    },
    {
     "data": {
      "image/png": "[encoded data removed]",
      "text/plain": [
       "<Figure size 640x480 with 1 Axes>"
      ]
     },
     "metadata": {},
     "output_type": "display_data"
    }
   ],
   "source": [
    "FrameMetrics.compute_inbalance(val_labels)"
   ]
  },
  {
   "cell_type": "markdown",
   "id": "f5635683",
   "metadata": {},
   "source": [
    "### Optimize Hyperparameters"
   ]
  },
  {
   "cell_type": "code",
   "execution_count": 7,
   "id": "e708564d",
   "metadata": {},
   "outputs": [
    {
     "name": "stdout",
     "output_type": "stream",
     "text": [
      "Step 1 - Optimizing Hyperparameters with Bayesian Optimization...\n"
     ]
    },
    {
     "name": "stderr",
     "output_type": "stream",
     "text": [
      "Optimizing hyperparameters: 100%|██████████| 50/50 [10:00<00:00, 12.01s/it, Melhor F1 Macro: 0.7567]"
     ]
    },
    {
     "name": "stdout",
     "output_type": "stream",
     "text": [
      "Best Hyperparameters Found: Penalty Factor 0.0100\n"
     ]
    },
    {
     "name": "stderr",
     "output_type": "stream",
     "text": [
      "\n"
     ]
    }
   ],
   "source": [
    "print(\"Step 1 - Optimizing Hyperparameters with Bayesian Optimization...\")\n",
    "\n",
    "best_hyperparams = FrameHyperparameterOptimizer.optimize_hyperparameters_bayesian(\n",
    "    initial_probs=val_probs,\n",
    "    labels=val_labels,\n",
    "    num_classes=4,\n",
    "    n_calls=50\n",
    ")\n",
    "\n",
    "print(f\"Best Hyperparameters Found: Penalty Factor {best_hyperparams['penalty_factor']:.4f}\")"
   ]
  },
  {
   "cell_type": "markdown",
   "id": "191773d9",
   "metadata": {},
   "source": [
    "### Threshold"
   ]
  },
  {
   "cell_type": "code",
   "execution_count": 8,
   "id": "3ceede7e",
   "metadata": {},
   "outputs": [
    {
     "name": "stdout",
     "output_type": "stream",
     "text": [
      "Step 2 - Setting Optimal Hyperparameters for Thresholding...\n",
      "\n",
      "Final Thresholds for each class:\n",
      "  class_0: Quartile=0.9900 -> Threshold=1.0000\n",
      "  class_1: Quartile=0.0874 -> Threshold=0.5014\n",
      "  class_2: Quartile=0.1824 -> Threshold=0.3093\n",
      "  class_3: Quartile=0.4301 -> Threshold=0.3742\n"
     ]
    }
   ],
   "source": [
    "print(\"Step 2 - Setting Optimal Hyperparameters for Thresholding...\")\n",
    "\n",
    "optimal_penalty_factor = best_hyperparams['penalty_factor']\n",
    "final_threshold_dict = FrameHyperparameterOptimizer.calculate_final_thresholds(best_hyperparams, val_probs, val_labels)\n",
    "\n",
    "print(\"\\nFinal Thresholds for each class:\")\n",
    "for class_id, values in final_threshold_dict.items():\n",
    "    print(f\"  {class_id}: Quartile={values['quartile_percentile']:.4f} -> Threshold={values['threshold_value']:.4f}\")"
   ]
  },
  {
   "cell_type": "markdown",
   "id": "500d53d2",
   "metadata": {},
   "source": [
    "### Train CRF"
   ]
  },
  {
   "cell_type": "code",
   "execution_count": 9,
   "id": "7f3d0907",
   "metadata": {},
   "outputs": [
    {
     "name": "stderr",
     "output_type": "stream",
     "text": [
      "[I 2025-07-31 13:54:14,190] A new study created in memory with name: no-name-b8495b78-ed2b-4b9c-9acf-1de7a001a74b\n"
     ]
    },
    {
     "name": "stdout",
     "output_type": "stream",
     "text": [
      "Step 3 - Setting Optimal Hyperparameters for CRF...\n",
      "\n",
      "--- Starting CRF Parameter Optimization with Optuna ---\n"
     ]
    },
    {
     "name": "stderr",
     "output_type": "stream",
     "text": [
      "[I 2025-07-31 13:54:47,917] Trial 0 finished with value: 0.24493912765853976 and parameters: {'sxy_gaussian': 3, 'compat_gaussian': 2.4521652513061287}. Best is trial 0 with value: 0.24493912765853976.\n",
      "[I 2025-07-31 13:55:21,641] Trial 1 finished with value: 0.24437667350660197 and parameters: {'sxy_gaussian': 3, 'compat_gaussian': 2.0688023022428785}. Best is trial 1 with value: 0.24437667350660197.\n",
      "[I 2025-07-31 13:55:54,646] Trial 2 finished with value: 0.24712019505233918 and parameters: {'sxy_gaussian': 5, 'compat_gaussian': 1.8579945782361835}. Best is trial 1 with value: 0.24437667350660197.\n",
      "[I 2025-07-31 13:56:28,149] Trial 3 finished with value: 0.24571642565886587 and parameters: {'sxy_gaussian': 3, 'compat_gaussian': 2.7951043623251968}. Best is trial 1 with value: 0.24437667350660197.\n",
      "[I 2025-07-31 13:57:01,180] Trial 4 finished with value: 0.25786267461054513 and parameters: {'sxy_gaussian': 5, 'compat_gaussian': 3.1592052854823676}. Best is trial 1 with value: 0.24437667350660197.\n",
      "[I 2025-07-31 13:57:34,779] Trial 5 finished with value: 0.25020593273106084 and parameters: {'sxy_gaussian': 3, 'compat_gaussian': 4.953324431146685}. Best is trial 1 with value: 0.24437667350660197.\n",
      "[I 2025-07-31 13:58:16,072] Trial 6 finished with value: 0.24300819796206963 and parameters: {'sxy_gaussian': 1, 'compat_gaussian': 1.015343476289571}. Best is trial 6 with value: 0.24300819796206963.\n",
      "[I 2025-07-31 13:58:57,360] Trial 7 finished with value: 0.24299723020379316 and parameters: {'sxy_gaussian': 1, 'compat_gaussian': 4.989488909353236}. Best is trial 7 with value: 0.24299723020379316.\n",
      "[I 2025-07-31 13:59:30,955] Trial 8 finished with value: 0.2481123591366141 and parameters: {'sxy_gaussian': 3, 'compat_gaussian': 3.8815012887368567}. Best is trial 7 with value: 0.24299723020379316.\n",
      "[I 2025-07-31 14:00:03,985] Trial 9 finished with value: 0.24584730916663722 and parameters: {'sxy_gaussian': 5, 'compat_gaussian': 1.5515473449779953}. Best is trial 7 with value: 0.24299723020379316.\n"
     ]
    },
    {
     "name": "stdout",
     "output_type": "stream",
     "text": [
      "--- CRF Optimization Completed. Best parameters: {'sxy_gaussian': 1, 'compat_gaussian': 4.989488909353236} ---\n"
     ]
    }
   ],
   "source": [
    "print(\"Step 3 - Setting Optimal Hyperparameters for CRF...\")\n",
    "\n",
    "crf_optimizer = FrameCRFApproach(num_classes=4, penalty_factor=optimal_penalty_factor)\n",
    "crf_optimizer.set_optimal_thresholds(final_threshold_dict)\n",
    "crf_optimizer.fit_crf_parameters(validation_probs=val_probs, validation_labels=val_labels, n_trials=10)"
   ]
  },
  {
   "cell_type": "markdown",
   "id": "39187f92",
   "metadata": {},
   "source": [
    "### Inference"
   ]
  },
  {
   "cell_type": "code",
   "execution_count": 10,
   "id": "57f17554",
   "metadata": {},
   "outputs": [
    {
     "name": "stdout",
     "output_type": "stream",
     "text": [
      "Step 4 - Performing Final Inference and Evaluation (using test data)...\n",
      "\n",
      "--- Applying Optimized CRF on Test Set ---\n"
     ]
    },
    {
     "name": "stderr",
     "output_type": "stream",
     "text": [
      "Final Inference with CRF: 100%|██████████| 43/43 [01:02<00:00,  1.46s/it]\n"
     ]
    },
    {
     "name": "stdout",
     "output_type": "stream",
     "text": [
      "\n",
      "Inference finalized. Evaluating results...\n"
     ]
    }
   ],
   "source": [
    "print(\"Step 4 - Performing Final Inference and Evaluation (using test data)...\")\n",
    "\n",
    "final_refined_probs, final_predictions = crf_optimizer.inference_with_optimized_crf(test_probs=test_probs)\n",
    "\n",
    "print(\"\\nInference finalized. Evaluating results...\")"
   ]
  },
  {
   "cell_type": "markdown",
   "id": "63b91525",
   "metadata": {},
   "source": [
    "### FINAL PERFORMANCE"
   ]
  },
  {
   "cell_type": "code",
   "execution_count": 11,
   "id": "97c2096e",
   "metadata": {},
   "outputs": [
    {
     "name": "stdout",
     "output_type": "stream",
     "text": [
      "\n",
      "--- Performance Results (Macro F1-Score and Per Class) ---\n",
      "\n",
      "## Baseline (Deep Learning Model Only)\n",
      "F1-Score (Macro): 0.7500\n",
      "F1-Score Per Class:\n",
      "  Class 0: 0.9913\n",
      "  Class 1: 0.9287\n",
      "  Class 2: 0.6681\n",
      "  Class 3: 0.4121\n",
      "\n",
      "## Your Refined Approach (DL + Thresholds + CRF)\n",
      "F1-Score (Macro): 0.7509\n",
      "F1-Score Per Class:\n",
      "  Class 0: 0.9914\n",
      "  Class 1: 0.9286\n",
      "  Class 2: 0.6699\n",
      "  Class 3: 0.4136\n",
      "\n",
      "## Improvement Analysis\n",
      "Overall Improvement (Macro F1): Method improved the Macro F1-Score by 0.11%.\n",
      "\n",
      "Process Completed! Check the F1-Scores per class for detailed insights.\n"
     ]
    }
   ],
   "source": [
    "print(\"\\n--- Performance Results (Macro F1-Score and Per Class) ---\")\n",
    "\n",
    "print(\"\\n## Baseline (Deep Learning Model Only)\")\n",
    "baseline_f1_per_class, baseline_macro_f1 = FrameMetrics.compute_f1_score(test_probs, test_labels, num_classes=4)\n",
    "print(f\"F1-Score (Macro): {baseline_macro_f1:.4f}\")\n",
    "print(\"F1-Score Per Class:\")\n",
    "for i, f1 in enumerate(baseline_f1_per_class):\n",
    "    print(f\"  Class {i}: {f1:.4f}\")\n",
    "\n",
    "print(\"\\n## Your Refined Approach (DL + Thresholds + CRF)\")\n",
    "refined_f1_per_class, refined_macro_f1 = FrameMetrics.compute_f1_score(final_refined_probs, test_labels, num_classes=4)\n",
    "print(f\"F1-Score (Macro): {refined_macro_f1:.4f}\")\n",
    "print(\"F1-Score Per Class:\")\n",
    "for i, f1 in enumerate(refined_f1_per_class):\n",
    "    print(f\"  Class {i}: {f1:.4f}\")\n",
    "\n",
    "print(\"\\n## Improvement Analysis\")\n",
    "if refined_macro_f1 > baseline_macro_f1:\n",
    "    improvement = (refined_macro_f1 - baseline_macro_f1) / baseline_macro_f1 * 100\n",
    "    print(f\"Overall Improvement (Macro F1): Method improved the Macro F1-Score by {improvement:.2f}%.\")\n",
    "elif refined_macro_f1 < baseline_macro_f1:\n",
    "    drop = (baseline_macro_f1 - refined_macro_f1) / baseline_macro_f1 * 100\n",
    "    print(f\"Overall Decline (Macro F1): Method decreased the Macro F1-Score by {drop:.2f}%.\")\n",
    "else:\n",
    "    print(\"No significant change in Macro F1-Score.\")\n",
    "\n",
    "print(\"\\nProcess Completed! Check the F1-Scores per class for detailed insights.\")"
   ]
  }
 ],
 "metadata": {
  "kernelspec": {
   "display_name": "myenv",
   "language": "python",
   "name": "python3"
  },
  "language_info": {
   "codemirror_mode": {
    "name": "ipython",
    "version": 3
   },
   "file_extension": ".py",
   "mimetype": "text/x-python",
   "name": "python",
   "nbconvert_exporter": "python",
   "pygments_lexer": "ipython3",
   "version": "3.11.9"
  }
 },
 "nbformat": 4,
 "nbformat_minor": 5
}
